{
 "cells": [
  {
   "cell_type": "code",
   "execution_count": 4,
   "metadata": {},
   "outputs": [
    {
     "name": "stdout",
     "output_type": "stream",
     "text": [
      "Requirement already satisfied: selenium in c:\\users\\user\\anaconda3\\lib\\site-packages (4.3.0)\n",
      "Requirement already satisfied: trio-websocket~=0.9 in c:\\users\\user\\anaconda3\\lib\\site-packages (from selenium) (0.9.2)\n",
      "Requirement already satisfied: trio~=0.17 in c:\\users\\user\\anaconda3\\lib\\site-packages (from selenium) (0.21.0)\n",
      "Requirement already satisfied: urllib3[secure,socks]~=1.26 in c:\\users\\user\\anaconda3\\lib\\site-packages (from selenium) (1.26.4)\n",
      "Requirement already satisfied: attrs>=19.2.0 in c:\\users\\user\\anaconda3\\lib\\site-packages (from trio~=0.17->selenium) (20.3.0)\n",
      "Requirement already satisfied: sniffio in c:\\users\\user\\anaconda3\\lib\\site-packages (from trio~=0.17->selenium) (1.2.0)\n",
      "Requirement already satisfied: idna in c:\\users\\user\\anaconda3\\lib\\site-packages (from trio~=0.17->selenium) (2.10)\n",
      "Requirement already satisfied: outcome in c:\\users\\user\\anaconda3\\lib\\site-packages (from trio~=0.17->selenium) (1.2.0)\n",
      "Requirement already satisfied: sortedcontainers in c:\\users\\user\\anaconda3\\lib\\site-packages (from trio~=0.17->selenium) (2.3.0)\n",
      "Requirement already satisfied: cffi>=1.14 in c:\\users\\user\\anaconda3\\lib\\site-packages (from trio~=0.17->selenium) (1.14.5)\n",
      "Requirement already satisfied: async-generator>=1.9 in c:\\users\\user\\anaconda3\\lib\\site-packages (from trio~=0.17->selenium) (1.10)\n",
      "Requirement already satisfied: pycparser in c:\\users\\user\\anaconda3\\lib\\site-packages (from cffi>=1.14->trio~=0.17->selenium) (2.20)\n",
      "Requirement already satisfied: wsproto>=0.14 in c:\\users\\user\\anaconda3\\lib\\site-packages (from trio-websocket~=0.9->selenium) (1.1.0)\n",
      "Requirement already satisfied: PySocks!=1.5.7,<2.0,>=1.5.6 in c:\\users\\user\\anaconda3\\lib\\site-packages (from urllib3[secure,socks]~=1.26->selenium) (1.7.1)\n",
      "Requirement already satisfied: pyOpenSSL>=0.14 in c:\\users\\user\\anaconda3\\lib\\site-packages (from urllib3[secure,socks]~=1.26->selenium) (20.0.1)\n",
      "Requirement already satisfied: cryptography>=1.3.4 in c:\\users\\user\\anaconda3\\lib\\site-packages (from urllib3[secure,socks]~=1.26->selenium) (3.4.7)\n",
      "Requirement already satisfied: certifi in c:\\users\\user\\anaconda3\\lib\\site-packages (from urllib3[secure,socks]~=1.26->selenium) (2020.12.5)\n",
      "Requirement already satisfied: six>=1.5.2 in c:\\users\\user\\anaconda3\\lib\\site-packages (from pyOpenSSL>=0.14->urllib3[secure,socks]~=1.26->selenium) (1.15.0)\n",
      "Requirement already satisfied: h11<1,>=0.9.0 in c:\\users\\user\\anaconda3\\lib\\site-packages (from wsproto>=0.14->trio-websocket~=0.9->selenium) (0.13.0)\n"
     ]
    }
   ],
   "source": [
    "!pip install selenium"
   ]
  },
  {
   "cell_type": "code",
   "execution_count": 5,
   "metadata": {},
   "outputs": [
    {
     "name": "stdout",
     "output_type": "stream",
     "text": [
      "Requirement already satisfied: beautifulsoup4 in c:\\users\\user\\anaconda3\\lib\\site-packages (4.11.1)\n",
      "Requirement already satisfied: soupsieve>1.2 in c:\\users\\user\\anaconda3\\lib\\site-packages (from beautifulsoup4) (2.2.1)\n"
     ]
    }
   ],
   "source": [
    "!pip install beautifulsoup4"
   ]
  },
  {
   "cell_type": "code",
   "execution_count": 6,
   "metadata": {},
   "outputs": [
    {
     "name": "stdout",
     "output_type": "stream",
     "text": [
      "Requirement already satisfied: requests in c:\\users\\user\\anaconda3\\lib\\site-packages (2.25.1)\n",
      "Requirement already satisfied: urllib3<1.27,>=1.21.1 in c:\\users\\user\\anaconda3\\lib\\site-packages (from requests) (1.26.4)\n",
      "Requirement already satisfied: certifi>=2017.4.17 in c:\\users\\user\\anaconda3\\lib\\site-packages (from requests) (2020.12.5)\n",
      "Requirement already satisfied: chardet<5,>=3.0.2 in c:\\users\\user\\anaconda3\\lib\\site-packages (from requests) (4.0.0)\n",
      "Requirement already satisfied: idna<3,>=2.5 in c:\\users\\user\\anaconda3\\lib\\site-packages (from requests) (2.10)\n"
     ]
    }
   ],
   "source": [
    "!pip install requests"
   ]
  },
  {
   "cell_type": "code",
   "execution_count": 7,
   "metadata": {},
   "outputs": [],
   "source": [
    "from bs4 import BeautifulSoup"
   ]
  },
  {
   "cell_type": "code",
   "execution_count": 8,
   "metadata": {},
   "outputs": [
    {
     "name": "stdout",
     "output_type": "stream",
     "text": [
      "Requirement already satisfied: tqdm in c:\\users\\user\\anaconda3\\lib\\site-packages (4.59.0)\n"
     ]
    }
   ],
   "source": [
    "!pip install tqdm"
   ]
  },
  {
   "cell_type": "code",
   "execution_count": 9,
   "metadata": {},
   "outputs": [
    {
     "name": "stderr",
     "output_type": "stream",
     "text": [
      "<ipython-input-9-1225a75d0980>:2: DeprecationWarning: executable_path has been deprecated, please pass in a Service object\n",
      "  driver = wd.Chrome(executable_path='C:/Users/user/Desktop/EWHA/2022 summer/EURON/chromedriver_win32/chromedriver.exe')\n"
     ]
    }
   ],
   "source": [
    "from selenium import webdriver as wd\n",
    "driver = wd.Chrome(executable_path='C:/Users/user/Desktop/EWHA/2022 summer/EURON/chromedriver_win32/chromedriver.exe')\n",
    "url = \"http://rwcms.ewha.ac.kr/oia/1160/subview.do?enc=Zm5jdDF8QEB8JTJGYmJzJTJGb2lhJTJGMTg3JTJGMjg3NDElMkZhcnRjbFZpZXcuZG8lM0ZwYWdlJTNEMSUyNnNyY2hDb2x1bW4lM0RhbGwlMjZzcmNoV3JkJTNEJTI2YmJzQ2xTZXElM0QlMjZiYnNPcGVuV3JkU2VxJTNEJTI2cmdzQmduZGVTdHIlM0QlMjZyZ3NFbmRkZVN0ciUzRCUyNmlzVmlld01pbmUlM0RmYWxzZSUyNmNoZWNrJTNEY2hlY2slMjZhZGQxJTNEJUVDJThBJUE0JUVDJTlDJTg0JUVDJThBJUE0JTI2YWRkMiUzREJlcm4rVW5pdmVyc2l0eStvZitBcHBsaWVkK1NjaWVuY2VzJTI2c3JjaFZhbDFfcyUzRDY0NSUyNnNyY2hWYWwyX3MlM0Q2NTYlMjZwYXNzd29yZCUzRCUyNg%3D%3D\"\n",
    "driver.get(url)"
   ]
  },
  {
   "cell_type": "code",
   "execution_count": 10,
   "metadata": {},
   "outputs": [
    {
     "name": "stderr",
     "output_type": "stream",
     "text": [
      "<ipython-input-10-89e62484a653>:3: DeprecationWarning: executable_path has been deprecated, please pass in a Service object\n",
      "  driver = webdriver.Chrome('C:/Users/user/Desktop/EWHA/2022 summer/EURON/chromedriver_win32/chromedriver.exe')\n"
     ]
    }
   ],
   "source": [
    "from selenium import webdriver\n",
    "\n",
    "driver = webdriver.Chrome('C:/Users/user/Desktop/EWHA/2022 summer/EURON/chromedriver_win32/chromedriver.exe')\n",
    "driver.implicitly_wait(10) # seconds\n",
    "driver.get(\"http://rwcms.ewha.ac.kr/oia/1160/subview.do?enc=Zm5jdDF8QEB8JTJGYmJzJTJGb2lhJTJGMTg3JTJGMjg3NDElMkZhcnRjbFZpZXcuZG8lM0ZwYWdlJTNEMSUyNnNyY2hDb2x1bW4lM0RhbGwlMjZzcmNoV3JkJTNEJTI2YmJzQ2xTZXElM0QlMjZiYnNPcGVuV3JkU2VxJTNEJTI2cmdzQmduZGVTdHIlM0QlMjZyZ3NFbmRkZVN0ciUzRCUyNmlzVmlld01pbmUlM0RmYWxzZSUyNmNoZWNrJTNEY2hlY2slMjZhZGQxJTNEJUVDJThBJUE0JUVDJTlDJTg0JUVDJThBJUE0JTI2YWRkMiUzREJlcm4rVW5pdmVyc2l0eStvZitBcHBsaWVkK1NjaWVuY2VzJTI2c3JjaFZhbDFfcyUzRDY0NSUyNnNyY2hWYWwyX3MlM0Q2NTYlMjZwYXNzd29yZCUzRCUyNg%3D%3D\")\n"
   ]
  },
  {
   "cell_type": "code",
   "execution_count": 18,
   "metadata": {},
   "outputs": [
    {
     "name": "stdout",
     "output_type": "stream",
     "text": [
      "Requirement already satisfied: webdriver-manager in c:\\users\\user\\anaconda3\\lib\\site-packages (3.8.3)\n",
      "Requirement already satisfied: requests in c:\\users\\user\\anaconda3\\lib\\site-packages (from webdriver-manager) (2.25.1)\n",
      "Requirement already satisfied: tqdm in c:\\users\\user\\anaconda3\\lib\\site-packages (from webdriver-manager) (4.59.0)\n",
      "Requirement already satisfied: python-dotenv in c:\\users\\user\\anaconda3\\lib\\site-packages (from webdriver-manager) (0.20.0)\n",
      "Requirement already satisfied: chardet<5,>=3.0.2 in c:\\users\\user\\anaconda3\\lib\\site-packages (from requests->webdriver-manager) (4.0.0)\n",
      "Requirement already satisfied: idna<3,>=2.5 in c:\\users\\user\\anaconda3\\lib\\site-packages (from requests->webdriver-manager) (2.10)\n",
      "Requirement already satisfied: urllib3<1.27,>=1.21.1 in c:\\users\\user\\anaconda3\\lib\\site-packages (from requests->webdriver-manager) (1.26.4)\n",
      "Requirement already satisfied: certifi>=2017.4.17 in c:\\users\\user\\anaconda3\\lib\\site-packages (from requests->webdriver-manager) (2020.12.5)\n"
     ]
    }
   ],
   "source": [
    "!pip install webdriver-manager"
   ]
  },
  {
   "cell_type": "code",
   "execution_count": 56,
   "metadata": {},
   "outputs": [],
   "source": [
    "from selenium.webdriver.chrome.service import Service\n",
    "from selenium.webdriver.common.by import By"
   ]
  },
  {
   "cell_type": "markdown",
   "metadata": {},
   "source": [
    "## 로그인하기"
   ]
  },
  {
   "cell_type": "code",
   "execution_count": 57,
   "metadata": {},
   "outputs": [],
   "source": [
    "# 크롬드라이버 버전에 맞게 설치하시고 크롬드라이버가 위치한 주소 넣어주시면 돼요\n",
    "s = Service('C:/Users/user/Desktop/EWHA/2022 summer/EURON/chromedriver_win32/chromedriver.exe')\n",
    "driver = webdriver.Chrome(service = s)\n",
    "driver.get(\"https://sso.ewha.ac.kr/SSO_IDP/swift/sso/loginForm.jsp?RSP=rwcms.ewha.ac.kr&RelayState=%2FssoLogin%2Foia%2Flogin.do?retunUrl=/oia/1160/subview.do\")"
   ]
  },
  {
   "cell_type": "code",
   "execution_count": 58,
   "metadata": {},
   "outputs": [],
   "source": [
    "# 로그인하기\n",
    "# send_keys() 안에 아이디 비번 작성해주시면 돼요\n",
    "driver.find_element(By.NAME, 'login_id').send_keys('id') #아이디\n",
    "driver.find_element(By.NAME, 'usr_pwd').send_keys('pw') #비번"
   ]
  },
  {
   "cell_type": "code",
   "execution_count": 59,
   "metadata": {},
   "outputs": [],
   "source": [
    "# 로그인 버튼 클릭\n",
    "driver.find_element(By.XPATH, '/html/body/div/div[3]/div/div[2]/form/fieldset/div/div/button').submit()\n",
    "driver.implicitly_wait(1)"
   ]
  },
  {
   "cell_type": "markdown",
   "metadata": {},
   "source": [
    "#### 임의의 게시글로 들어가기"
   ]
  },
  {
   "cell_type": "code",
   "execution_count": 60,
   "metadata": {},
   "outputs": [],
   "source": [
    "driver.find_element(By.XPATH, '/html/body/div/div[2]/div[2]/div[2]/div[4]/article/div[2]/div[2]/form[1]/table/tbody/tr[9]/td[2]/a').click()\n",
    "driver.implicitly_wait(1)"
   ]
  },
  {
   "cell_type": "markdown",
   "metadata": {},
   "source": [
    "## 크롤링하기"
   ]
  },
  {
   "cell_type": "markdown",
   "metadata": {},
   "source": [
    "#### 크롤링 바로 출력"
   ]
  },
  {
   "cell_type": "code",
   "execution_count": 61,
   "metadata": {},
   "outputs": [
    {
     "name": "stdout",
     "output_type": "stream",
     "text": [
      "[]\n"
     ]
    }
   ],
   "source": [
    "# from urllib.request import urlopen\n",
    "# from bs4 import BeautifulSoup\n",
    "\n",
    "# a = urlopen('http://rwcms.ewha.ac.kr/oia/1160/subview.do?enc=Zm5jdDF8QEB8JTJGYmJzJTJGb2lhJTJGMTg3JTJGMjkxMjQlMkZhcnRjbFZpZXcuZG8lM0ZwYWdlJTNEMSUyNnNyY2hDb2x1bW4lM0QlMjZzcmNoV3JkJTNEJTI2YmJzQ2xTZXElM0QlMjZiYnNPcGVuV3JkU2VxJTNEJTI2cmdzQmduZGVTdHIlM0QlMjZyZ3NFbmRkZVN0ciUzRCUyNmlzVmlld01pbmUlM0RmYWxzZSUyNmNoZWNrJTNEY2hlY2slMjZhZGQxJTNEJTI2YWRkMiUzRCUyNnNyY2hWYWwxX3MlM0QlMjZzcmNoVmFsMl9zJTNEJTI2cGFzc3dvcmQlM0QlMjY%3D')\n",
    "# a를 호출해 html을 parser\n",
    "# soup = BeautifulSoup(a.read(), 'html.parser')\n",
    "# soup에서 p를 모두 가져온다.\n",
    "# print(soup.find_all('p'))"
   ]
  },
  {
   "cell_type": "code",
   "execution_count": 62,
   "metadata": {},
   "outputs": [],
   "source": [
    "report_list=[]"
   ]
  },
  {
   "cell_type": "code",
   "execution_count": 63,
   "metadata": {},
   "outputs": [],
   "source": [
    "driver.get('http://rwcms.ewha.ac.kr/oia/1160/subview.do?enc=Zm5jdDF8QEB8JTJGYmJzJTJGb2lhJTJGMTg3JTJGMjkxMjQlMkZhcnRjbFZpZXcuZG8lM0ZwYWdlJTNEMSUyNnNyY2hDb2x1bW4lM0QlMjZzcmNoV3JkJTNEJTI2YmJzQ2xTZXElM0QlMjZiYnNPcGVuV3JkU2VxJTNEJTI2cmdzQmduZGVTdHIlM0QlMjZyZ3NFbmRkZVN0ciUzRCUyNmlzVmlld01pbmUlM0RmYWxzZSUyNmNoZWNrJTNEY2hlY2slMjZhZGQxJTNEJTI2YWRkMiUzRCUyNnNyY2hWYWwxX3MlM0QlMjZzcmNoVmFsMl9zJTNEJTI2cGFzc3dvcmQlM0QlMjY%3D')\n",
    "html = driver.page_source\n",
    "soup = BeautifulSoup(html, 'html.parser')\n",
    "notices = soup.select('p')\n",
    "\n",
    "for n in notices:\n",
    "    report_list.append(n.text.strip())\n",
    "#for n in notices:\n",
    "#    print(n.text.strip())"
   ]
  },
  {
   "cell_type": "code",
   "execution_count": 66,
   "metadata": {},
   "outputs": [
    {
     "data": {
      "text/plain": [
       "['Incoming Students APPLY HERE',\n",
       " '[2022년도 1학기_국문보고서]',\n",
       " '',\n",
       " '',\n",
       " '',\n",
       " '',\n",
       " '',\n",
       " '국가',\n",
       " '노르웨이',\n",
       " '파견시기',\n",
       " '2022년 1학기',\n",
       " '파견기간',\n",
       " '1학기',\n",
       " '이름',\n",
       " '홍**',\n",
       " '',\n",
       " 'University of Oslo',\n",
       " '',\n",
       " '',\n",
       " '',\n",
       " '',\n",
       " '',\n",
       " '',\n",
       " '',\n",
       " '',\n",
       " '',\n",
       " '',\n",
       " '',\n",
       " '',\n",
       " '',\n",
       " '1. 파견교\\n배정 후 준비 과정',\n",
       " '',\n",
       " '- 지원서 작성',\n",
       " '7월\\n중순 파견교 배정이 완료 된 뒤 약 두 달 뒤인 9월 초 오슬로 대학교로부터 노미네이션이 완료되었다는\\n메일과 함께 지원서 작성 방법과 업로드 해야 하는 자료들에 대한 정보 메일을 함께 받았습니다. 이렇게\\n늦게 준다고? 라고 생각이 들 정도로 잊고 있다 보면 메일이 와 있으니 알람을 꼭 켜두시고 기다리시길\\n바랍니다. 지원서 작성의 경우 Studentweb이라고 하는\\n유레카 비슷한 사이트에 오슬로 대학교 측에서 알려준 아이디와 비밀번호로 접속 후 제출하면 됩니다. 저는\\n여권 사본, 영문 성적표, 자기 소개서와 토플 성적표를 제출\\n했어야 했으며 여권을 새로 발급 받는 바람에 문제가 조금 생겨 국교처의 안내를 받아 관련 서류를 ‘Letter\\nof Explanation’이라는 이름으로 추가적으로 업로드 하였습니다. 작성 중에 문제가\\n생기거나 궁금한 점이 생긴다면 먼저 국제교류처 PPT를 자세히 읽어보고 그 외의 개인적인 사유로 문의\\n사항이 있다면 국교처 메일로 연락하시면 됩니다.',\n",
       " '',\n",
       " '- 기숙사 신청',\n",
       " '9월\\n초 노미네이션이 완료되고, 지원서 작성 방법에 대한 안내와 함께 기숙사 신청 안내 메일을 함께 받았습니다. SiO에 가입해서 희망하는 방 구성 우선 순위를 정하고 거주 기간 등을 설정하면 기숙사 신청은 완료됩니다. 그 뒤 두 달 뒤인 11월 초에 기숙사 최종 배정을 받았고 열흘\\n정도의 보증금 송금 기간이 주어졌습니다. 주변에서 기숙사 보증금 기간을 확인하지 못해 신청이 취소된\\n학생을 본 적이 있기 때문에 반드시 모든 메일을 바로 확인하시길 바랍니다. 거주 기간을 선택할 때 저는\\n종강 후의 여행 계획이 딱히 없었기 때문에 종강 직후인 5월 30일로\\n설정하였지만 미리 8월까지로 설정해두고 자신의 일정에 맞춰 중간에 줄이거나 늘리는 학생들도 있었습니다. 다만 그럴 경우에는 계약 기간 만료일 두 달 혹은 한 달 전에 변경해야 하므로 계획 변경 예정이 있다면 꼭\\n기간을 확인하시길 바랍니다.',\n",
       " '한국 학생들이 주로 머무는 기숙사는 두 가지로 Sogn과 Kringsja입니다. 우선\\n크링샤는 5호선 크링샤 역에 위치한 기숙사이며, Sogn Student\\nVillage는 Ulleval Stadion 역에서 약\\n10분 정도 떨어진 거리에 위치해 있으며 25번 버스를 타고 기숙사 바로 앞에서 내릴 수도\\n있습니다. 이화여대 학생뿐만 아니라 거의 모든 노르웨이의 한국 교환학생들이 이 두 기숙사에서 지내며\\n시기에 따라 비율은 다르지만 제가 지냈을 때에는 세 명 빼고 모든 학생들이 크링샤에 있었습니다. 저는\\n둘 중에서 제가 머문 크링샤에 대한 소개를 자세히 하고자 합니다.',\n",
       " '',\n",
       " 'Krinsja Student Village –\\n우리가 보통 생각하는 기숙사와 달리 크링샤는 학생들만이 사는 것이 아니고 부부, 가족 등 다양한 구성원들이\\n함께 사는 기숙사 단지로 UiO 외에도 다양한 학교의 학생들이 머무는 곳입니다. 다양한 유형의 플랫이 있고 거대한 아파트 단지처럼 여러 빌딩들이 기숙사를 구성하고 있습니다. 제가 지냈던 곳은 6명의 학생들이 개인 방과 화장실을 사용하면서\\n부엌과 식당, 복도를 공유하는 플랫이었습니다. 단지 내에는\\n아틀레티카 회원권으로 이용할 수 있는 헬스장과 한 번도 가보지는 않았지만 피자 등을 파는 식당이 있고 매주 월요일부터 토요일, 7시부터 11시까지 운영하는 마트인 키위가 있습니다. 세탁실은 18동 근처와 입구 근처에 두 개가 있는데 입사할 때 배부\\n받는 세탁실 카드에 충전을 하고 (충전은 SiO 앱을 통해\\n할 수 있습니다) 사용할 수 있습니다.',\n",
       " '',\n",
       " '제가 크링샤를 선택했던 이유는 그때까지만 해도\\n아직 코로나 19가 기승을 부리고 있던 상황이라 화장실을 타인과 함께 사용하는 것이 조금 걸렸기 때문입니다. 따라서 개인 화장실을 쓸 수 있는 크링샤를 선택한 것이었지만 그만큼 상대적으로 더 가격이 비쌌는데 한 달에\\n방세가 약 75 만 원 정도 들었던 것으로 기억합니다. Sogn에\\n비해서 상대적으로 시내와 학교에서 조금 더 멀다는 단점이 있습니다. 그러나 크링샤는 티반 역이 가깝고\\n송스반 호수로 도보로 약 5분 안에 갈 수 있다는 장점이 있습니다. 송스반\\n호수는 한 바퀴 돌 때 편도로 약 50분 정도 걸리는 큰 호수로 계절마다 그 매력이 매우 다채로우며\\n다양한 스포츠를 즐길 수 있는 곳이기도 합니다. 겨울에는 크로스컨트리 스키를, 여름에는 수영과 비치발리볼을 할 수 있고 오로라 지수가 높은 겨울밤에는 꽁꽁 언 호수 위에 올라 오로라를 볼\\n수 있는 곳이기도 합니다. 또한 계절과 상관없이 피크닉과 그릴링을 할 수 있는 곳으로 겨울에는 불을\\n피워 놓고, 여름에는 돗자리를 깔고 누워서 핫도그와 도시락을 먹었던 추억이 있습니다. 오슬로를 떠난 지금도 송스반에서 즐겼던 추억들이 생각나곤 합니다. 여러\\n가지 선택권과 우선순위들이 있겠지만 저는 이러한 이유로 크링샤를 추천합니다.',\n",
       " '',\n",
       " '- 임시 거주증 신청',\n",
       " '노르웨이는 쉥겐 국가로 대한민국 국민은 90일 동안 무비자로 노르웨이에 머물 수 있습니다. 하지만 그 이상의\\n기간을 지내기 위해서는 거주증을 발급 받아야 합니다. 따라서 한국에서 거주증 신청을 하고, 임시 거주증을 발급 받아 노르웨이로 출국한 뒤에 경찰서에서 확인을 받고 최종적으로 거주증을 받게 됩니다. 이 절차가 복잡하고 시간이 오래 걸리기 때문에 입학 허가서를 발급 받음과 동시에 가능한 빠르게 신청하시길 바랍니다. 임시 거주증 신청은 UDI라는 사이트에서 할 수 있으며 제가 임시\\n거주증을 신청할 때 가져가야 했던 서류로는 여권, 여권 사본, 커버\\n레터, 여권 사진 두 장, UiO에서 받은 입학 증명서, 잔고 증명서가 있습니다. 특히 주의할 점은 여권 사본으로 저는 인적\\n사항이 있는 페이지만 복사해 갔는데 그 외에도 앞뒷면 등을 복사해 가야 했기 때문에 그냥 여권의 모든 면과 사용된 면을 다 복사해서 가시는 걸\\n추천 드립니다. 저는 준비해가지 못한 페이지가 있어 현장에서 프린트를 해야 했는데 꽤 많은 비용을 지불해야\\n했습니다. 이렇게 노르웨이 비자 대행 센터에서 필요한 서류를 제출하고,\\n사진을 찍고 나면 베이징 노르웨이 대사관을 거쳐 노르웨이로 서류가 배송됩니다. 제출한 서류는\\n돌려주지 않고 여권만 1~2달 정도 시간이 지난 뒤 배송 받을 곳으로 기재한 주소로 배송됩니다. 저는 잊을 만하니까 우편함에 여권이 꽂혀 있던 기억이 납니다.',\n",
       " '',\n",
       " '- 출국 준비 및 출국',\n",
       " '노르웨이는 한국에서 가는 직항 비행 노선이\\n없기 때문에 저는 암스테르담에서 경유하여 경유 시간 포함 약 14시간 정도 소요하여 오슬로로 이동하였습니다. 제가 출국 할 때만 해도 노르웨이에서 코로나19 관련 규정들이 있었기\\n때문에 저는 입국 시 PCR 및 신속 항원 검사와 입국 후 약 5일\\n동안 격리를 해야 했습니다. 저는 인천 공항에 있는 검사소에서 출국 당일 결과가 나오기까지 약 1시간이 걸리는 검사를 했고 온라인으로 미리 신청해두었던 노르웨이 크로네 현금을 하나 외환은행에서 수령하였습니다. 현금이 사실상 전혀 필요하지 않지만 혹시 모를 상황에 대비하고자 하시는 분께서는 공항에서 미리 온라인으로 신청하여\\n수령하실 수 있습니다.',\n",
       " '',\n",
       " '- 경유 및 노르웨이 입국, 그리고 격리 과정',\n",
       " '암스테르담에 도착해서는 입국 심사소를 지나갈\\n때 저의 경우 어디 가는지와 무엇 때문에 가는지 정도만 질문을 받았지만 어떤 학생들의 경우에는 입학 허가서 등을 요구하는 경우도 있었습니다. 따라서 혹시 모를 서류를 미리 준비하여 가지고 타시는 걸 추천 드립니다. 그렇게\\n두 시간 비행 후 오슬로에 도착해서는 입국 시 필수로 제출해야 했던 입국 신청서 폼의 QR코드를 보여주고\\n입학 허가서, 임시 거주증 등의 서류를 보여주었습니다. 그렇게\\n오슬로 가르덴모엔 공항 바깥으로 나왔을 때는 밤 12시였는데, 저는\\n공항 근처의 격리 호텔에 가야 했기 때문에 버스 티켓 머신에서 버스 티켓을 구매하고 격리 호텔로 이동하였습니다.\\n중간에 다른 정류장에 내리는 등 조금의 시행착오가 있었는데 무사히 호텔에 체크인 할 수 있었습니다.\\nPCR 검사의 경우 입국 후 3일 뒤에 시행해야 했고 음성 결과가 나온 뒤에는 자유롭게\\n퇴실할 수 있었습니다. 현재는 노르웨이에서 코로나 관련 규정이 완전히 없어져 별도의 과정 없이 그냥\\n입국 할 수 있고 격리도 없는 것으로 알고 있습니다. 하지만 보고서를 작성하고 있는 현재 유럽 및 여러\\n국가에서 코로나 재확산 등의 뉴스가 나오고 있는 상황이기 때문에 혹시 모르니 노르웨이 대사관 홈페이지 공지사항을 꼭 확인하시길 바랍니다.',\n",
       " '',\n",
       " '2. 학교 생활\\n및 수강 과목',\n",
       " '우선 과목에 대한 자세한 소개에 들어가기 앞서\\n오슬로 대학교 대부분의 강의는 기말 시험/과제 하나로 알파벳이 나눠진다는 것을 알려드립니다. 보통 필수 과제 외의 출석은 성적에 포함되지 않지만 그만큼 기말 시험 하나로 성적이 갈리기 때문에 학점을 가져오고자\\n한다면 반드시 참여하여야 합니다. 그러나 이 역시 과목에 따라 편차가 있기 때문에 수강신청을 하기 전에\\n반드시 해당 연도의 강의 계획서와 그 전년도의 강의계획서들을 모두 확인하시길 바랍니다.',\n",
       " '',\n",
       " '- 수강 과목',\n",
       " 'HIS2336 History of 19thcenturyExploration:',\n",
       " '이 강의는 역사학 전공 과목이며 기말 페이퍼로\\n19세기 탐험에 관련된 주제로 소논문을 작성해야 하는 강의였습니다. 과목 자체가 학생들이\\n알아서 주제를 정하고 기말 페이퍼를 쓰는 것을 목표로 하고 달려가며 대부분의 작업을 학생 자율에 맡깁니다. 또한\\n강의 자체가 다양한 전공 지식을 전달하는 방식은 아니었기 때문에 탐험사에 대해 잘 아는 것이 없는 저에게 주제를 고르기에 아주 유익하지는 않았습니다. 미시사에 대한 지식을 더 쌓고 싶어서 이 과목을 선택했던 저의 기대에는 아주 걸맞은 수업은 아니었던 것 같습니다. 또한 교수님이 프랑스 분이셔서 발음을 알아듣기가 어렵고, 강의 방식도 PPT 몇 장만 가지고 당신의 이야기를 늘어놓는 식으로 진행되었기 때문에 잠깐 집중력을 잃으면 어떤 이야기를\\n하고 있는지 놓치기 십상이라 그 점이 가장 어려웠습니다. 하지만 교수님이 매우 친절하셨고 같은 조 조원들과\\n피드백을 주고 받으며 논문을 스스로 구체화 했던 과정 자체는 좋은 경험으로 남습니다. 영어로 논문을\\n쓰는 것도 처음이어서 많이 걱정했는데 이화에서 했던 방식과 아주 크게 다르지는 않았던 것 같습니다. 새로운\\n경험을 해보고 싶은 벗이라면 추천합니다. 성적은 기말 페이퍼 하나로 결정되었고 일종의 주제 제안서인\\n‘obligatory expose’를 제출하지 않거나 발표를 하지 않을 시에는 기말 과제 제출 자격이\\n없기 때문에 잘 체크하시길 바랍니다.',\n",
       " '',\n",
       " 'KRIM2953 Criminological\\nPerspectives on Gender, Sexuality and Violence:',\n",
       " '이 강의는 범죄학과 강의로 제가 오슬로 대학교를 선택한 이유이기도 했습니다. 범죄학이라는 분야가 생소하지만 흥미로워 보였고 또 여성학적 시각과 관점이 녹아 있어 여성학을 부전공하고 있는\\n저에게 새로운 경험을 가져다 줄 수 있을 거라고 생각했습니다. 물론 모든 것이 기대한 것과 같지 않듯이\\n이 과목 역시 제가 생각했던 것보다는 훨씬 더 개념적이고 관념적이었습니다. 매체에 자주 노출되는 프로파일러\\n분들과 같은 교수님들을 기대했지만 실제로는 훨씬 더 이론적인 작업을 많이 하시는 교수님들이 수업을 진행하셨고 그 점에서는 조금 아쉬웠던 것 같습니다. 강의는 초반을 제외하고는 법대 건물에서 오프라인으로 진행되었고 온라인으로 수업 녹화 파일을 업로드 해주었기\\n때문에 꼭 출석을 해야 하지는 않았습니다. 기말 과제는 8번의\\n수업 중 하나의 수업에서 다룬 주제에 대한 에세이를 작성하는 것이었는데 수업 자료로 주어진 논문들을 열심히 공부하면 충분히 풀 수 있는 난이도였던\\n것 같습니다. 그러나 논문들에서 사용된 단어들이 추상적인 개념이 많고 어려웠기 때문에 저에게는 논문들을\\n읽어내는 것도 조금은 버거웠던 것 같습니다. 관심이 있는 벗들께서는 제공된 읽기 자료들을 복습하는 것이\\n진도를 잘 따라가는데 도움이 될 것이라 생각합니다.',\n",
       " '',\n",
       " 'PSY2102 Social Cognition\\nand Emotion:',\n",
       " '이 강의는 심리학 전공 인정 과목으로 복수 전공 학점 인정을 위해 선택한 과목입니다. 사회 심리학에 대한 네 개의 모듈 강의로 이루어져 있고 각 모듈은 세 번의 세미나를 포함하여 총 여덟 번의\\n강의와 열 두 번의 세미나에 참석해야 했습니다. 제가 들었던 과목 중에서는 유일하게 출석을 성적에 포함한\\n강의였고 세미나 12번 중 최소 9번은 참석해야 합니다. 사회 심리학 강의를 들어본 적 없는 저는 별 다른 지식 없이 강의를 듣게 되었지만 따라가기가 크게 어렵지 않았고\\n심리학의 이해 과목을 수강하셨다면 큰 무리 없이 수업 내용을 이해할 수 있을 것입니다. 세미나는 각\\n모듈마다 다른 방식으로 진행되었는데 PPT 발표, 논문 분석, 대안 구성 및 발표 등 다양하게 구성되어 있어 저 개인적으로는 즐겁게 참여할 수 있었습니다. 작년 두 해 동안 온라인으로만 수업을 듣느라 일방향적으로 지식을 전달받는 느낌이 강했다면 발표도 하고 토론도\\n하면서 자유롭게 면대면으로 소통할 수 있다는 점이 좋았습니다. 오슬로 대학교에서 심리학 과목을 수강하실\\n생각이 있으시다면 추천 드립니다. 기말 시험은 각 모듈에서 한 문제씩 출제하여 총 네 문제 중에서 세\\n문제에 답변하는 형식이었고 4시간 동안 작성해야 했습니다.',\n",
       " '',\n",
       " '- 교내 시설 및 정보:',\n",
       " '오슬로 대학교는 법대, 의대, 인문대, 자연대, 공대 등 매우 다양한 단과대로 이루어져 있는 대학교인터라 교내 시설 역시 규모가 상당합니다. 오슬로 대학교 부지가 있는 지역과 인접한 역은 Forskningsparken과 Blindern이 있는데 인문대와 심리학과 강의실에 갈 때에는 포크슈닝스파켄 역에서 내리는 것이 더 빠르고 중앙\\n도서관이나 심리학과 세미나실에 갈 때는 블린던 역으로 가는 것이 더 빨랐습니다. 법대 건물의 경우에는\\n다른 건물들과 달리 시내에 있으며 Nationaltheatret역에서 내려야 합니다. 부지가 커서 건물 간의 간격이 꽤 큰 편이기 때문에 연강으로 수강신청을 할 때는 반드시 이동 시간을 고려해야\\n합니다.',\n",
       " '교내에 서점,\\n약국 등이 있으며 Bunnpris라는 마트도 있습니다. 학식을\\n자주 먹지는 않았지만 Eilert Sundts Hus 건물 1층에\\n뷔페식으로 되어 있는 식당에 두어번 정도 가봤습니다. 그릇에 음식을 담아 무게를 재서 가격을 지불하는\\n형식인데 음식 이름을 모르는 상태에서 생긴 것만 보고 담았어야 했기 때문에 저는 편식을 안 하는 편이라 괜찮았지만 가리는 음식이 많고 새로운 맛을\\n경험하는 것을 꺼린다면 추천하지 않습니다. 그 외에도 중앙 도서관 2층에\\n카페가 있는데 샌드위치가 가격 대비 맛이 좋았습니다. 그러나 노르웨이의 물가는 가성비가 아무리 좋다고\\n해도 비싸기 때문에 저를 포함한 대부분의 학생들이 도시락을 가지고 다니는 것 같았습니다. 또한 교내에는 SiO에서 운영하는 체육 시설인 Athletica Blindern이\\n있는데 아틀레티카 회원이라면 누구나 사용이 가능하며 클라이밍 시설이 있어 친구들과 한 번 가본 기억이 있습니다.\\n신발을 대여해주는데 가격이 싸기 때문에 멤버쉽이 있다면 한 번쯤 체험해보는 것도 좋을 것 같습니다.',\n",
       " '',\n",
       " '3. 오슬로\\n생활',\n",
       " '- 교통: 오슬로에 도착하고 난 뒤 가장 첫 번째로 부딪혀야 할 난관이 바로 교통일 것입니다. 오슬로는 여러 개의 존으로 나뉘어 있고 대부분 우리가 이동하는 지역은 1존에\\n해당하고 오슬로의 모든 교통 수단을 운영하는 회사인 Ruter의 1존\\n교통권을 구매해야 합니다. 이는 루터 회사의 버스, 티반, 트램, 그리고 페리까지 이용할 수 있습니다. 교통권을 구매하는 방법은 실물 교통권을 편의점 등에서 구매하거나 온라인 앱으로 구매하는 것인데 저는 온라인으로\\n구매했으며 이 방법을 훨씬 더 추천 드립니다. 우선 티반이나 트램 등을 탑승하면 반드시 activator에 카드를 태그해야 하며 까먹었거나 교통 카드를 가져오는 것을 잊어서 이를 하지 않고 탑승한\\n것이 적발된다면 20만원 상당의 벌금을 내야 합니다. 그러나\\n온라인 앱으로 구매한다면 태그를 해야 않아도 되기 때문에 훨씬 더 안전하고 편리하다고 볼 수 있습니다.',\n",
       " '교통권 구매 시에는 한달권으로 학생 할인을\\n받아 구매하는 것이 가장 싸고 가끔 티켓 검사를 할 때 학생임을 증명할 수 있는 신분증을 요구하기도 하기 때문에 확인하시기 바랍니다. 만약 하얀 바탕에 빨간색으로 글씨가 써져 있는 루터 앱에서 한국 카드로 교통권 구매가 되지 않는다면 Ruter Billett이라고 하는 앱을 통해서는 한국 카드로도 구매가 가능하니 참고하시길 바랍니다.',\n",
       " '',\n",
       " '해외 카드 발급: 교환학생을 갈 때\\n보통 해외 사용 시 수수료가 할인되는 카드를 새로 발급받아 가져가는 경우가 많을 것입니다. 그러나 이를\\n사용할 때에는 매번 결제 할 때마다 영수증에 서명을 해야 하기 때문에 저는 개인적으로 불편함을 느꼈습니다. 그러나\\n노르웨이 은행과 통장을 만드는 것은 2 ~ 3개월 정도 걸리기 때문에 한 학기 머무는 교환 학생이 만들기에는\\n비효율적입니다. 그래서 저는 독일 카드 회사인 Vivid에서\\n카드를 발급 받아 사용했습니다. 실물 카드 역시 우편으로 받아볼 수 있고 아이폰 사용시 애플 페이를\\n사용할 수 있기 때문에 매우 편리합니다. 가끔 마스터카드나 비자 카드임에도 불구하고 한국 카드를 사용할\\n수 없는 경우가 있기 때문에 해외 카드를 하나 더 만드는 것도 좋을 것 같습니다. 비비드 외에도 N26카드를 많이 사용하는 것 같습니다.',\n",
       " '',\n",
       " '- 여가 및 취미 활동: 겨울이 지나고 봄이 오는 시기의 노르웨이는 눈이 많이, 그리고 자주\\n오고 추운 날씨가 길며 한국처럼 바깥에서 즐길 만한 여가, 놀이 문화가 많이 발달하지 않았기 때문에 (비싼 가격도 한 몫 합니다) 스스로 놀 거리들을 찾아야 합니다. 그리고 그 중 대부분이 스포츠입니다. 노르웨이 사람들은 발에 스키를\\n달고 태어난다는 말이 있을 정도로 많은 사람들이 크로스 컨트리 스키를 즐기며 그 외에도 다양한 스포츠들을 매우 쉽고 또 비교적 싼 가격으로 즐길\\n수 있습니다.',\n",
       " '',\n",
       " '실내 클라이밍: 저는 노르웨이에서\\n처음으로 실내 클라이밍을 접했습니다. 노르웨이도 한국처럼 몇 년부터 클라이밍 열풍이 불기 시작했고 때문에\\n인구 수에 비하면 꽤나 많은 클라이밍 센터들을 찾아볼 수 있습니다. 그 중 제가 가장 자주 다녔던 곳은 Vulkan에 있는 Klatresenter로 3시 이전에 입장할 시에 학생 가격으로 2시간에 80kr이며 신발 대여료가 50kr로 약 2만원으로 스포츠를 즐길 수 있습니다. 그 외에도 Klatreverket Løkka와 Oslo Klatresenter AS에\\n가본 적이 있습니다. 그 중에서 Skullerud에 있는 Oslo Klatresenter AS가 규모가 매우 커서 가격은 조금 더 비싸지만 관심이 있다면 한 번 가 보길\\n추천 드립니다. 대부분의 체육관에서 신발을 대여할 수 있으며 옷은 신축성이 좋은 운동복 바지를 입는\\n것이 좋습니다. 그리고 노르웨이 사람들이 대부분 말이 없고 특별한 일이 없다면 스몰 토크를 하지 않는\\n편이지만 클라이밍장 에서만큼은 서로 자연스럽게 대화를 하고 친목을 다지는 모습을 자주 볼 수 있기 때문에 새로운 친구를 만나는 장소로도 좋은 것\\n같습니다.',\n",
       " '',\n",
       " '겨울 스포츠: 크로스 컨트리 스키, 알파인 스키, 아이스 스케이트와 같은 겨울 스포츠의 경우 더 쉽게\\n접할 수 있습니다. UiO에서도 자체적으로 교환 학생들에게 이틀에 걸쳐 무료로 크로스 컨트리 스키 강습을\\n제공하며(선착순이므로 공지가 올라오자마자 신청해야 함) 개인이 BUA 혹은 Frigo와 같은 센터에서 무료로 운동 기구들을 빌릴\\n수 있습니다. 저는 BUA 센터는 가본 적이 없고 Frigo만 가본적이 있는데 영수증을 가져가지 않아서 반납할 때 조금 잔소리를 들었던 기억이 있아 잘 보관하시길\\n바랍니다. 아이스 스케이트의 경우에는 Majorstuen 역\\n근처의 Frogner Stadion에서 스케이트화를 대여할 수 있는데 현금이나 노르웨이 카드를 소지하고\\n있는 사람만 만들 수 있는 카카오페이 같은 서비스인 Vipps로만 돈을 낼 수 있기 때문에 만약 스케이트를\\n타고자 한다면 꼭 현금을 가져 가시길 바랍니다.',\n",
       " '',\n",
       " '놀이공원: 오슬로 근처에서 갈 수\\n있는 놀이공원에는 여러 개가 있습니다. 그 중 가장 가까운 곳이 오슬로 근교의 Tusenfryd입니다. 오슬로 시내에서 2존 시간권을 끊은 뒤 50번 버스를 타면 사람들이 여러 명 내리는\\n정류장이 있는데 따라 내리시면 됩니다. 이용권은 온라인으로 결제하면 일정 금액 할인 받을 수 있기 때문에\\n온라인으로 구매해서 티켓 QR 코드를 가져가는 것이 훨씬 더 빠르게 입장하실 수 있습니다. 그 외에도 스웨덴 예테보리에도 Liseberg, 크리스티안산의 Kristiansand Zoo and Amusement Park Kristiansand Dyrepark가 있습니다. 저는 시간이 촉박하기도 했고 예테보리나 크리스티안산에 가기에는 너무 거창한 것 같기도 해서 오슬로 근교로 하루\\n당일치기로 다녀왔는데 오히려 하루 동안 충분히 잘 즐기고 올 수 있었던 것 같습니다. 만약 오슬로에서\\n놀이공원에 가보고 싶으시다면 Tusenfryd를 추천합니다.',\n",
       " '',\n",
       " '- 기타 생활 정보',\n",
       " '오슬로는 쇼핑을 즐기기에 아주 적합한 도시는 아닙니다. 비싼 가격도 한 몫하지만 브랜드나 매장 등이 파리나 런던과 같은 큰 도시들과 비교하면 규모가 작고 다양하지\\n않습니다. 그럼에도 옷이나 수영복, 기타 의류 등이 필요할\\n때에 제가 주로 갔던 쇼핑몰 등을 소개하도록 하겠습니다.',\n",
       " '',\n",
       " '- Oslo City: 중앙 역인 Jernbantorget 역과 연결된 오슬로에서 가장 큰 쇼핑몰입니다. 대부분\\n필요한 모든 것을 구할 수 있음.',\n",
       " '- Storo: 스토로 역에서 내려\\n주유소 쪽으로 내려오면 Storo Storsenter이 있습니다. 오슬로\\n시티와 규모가 비슷하고 아래로 조금 더 내려가면 IMAX 영화관도 있음.',\n",
       " '- Majorsteun: 마요르스툰\\n역에서 내려서 맥도날드 옆쪽으로 쭉 내려가면 자라, H&M 등 다양한 가게들이 쭉 늘어진 쇼핑\\n거리가 있음.',\n",
       " '다음으로는 노르웨이의 여러 마트들과 자주 갔던 식당, 카페 등에 대해 소개하고자 합니다. 참고로 노르웨이에서는 마트를\\n포함해 대부분의 가게들이 일요일에 운영하지 않습니다.',\n",
       " '',\n",
       " '- Meny, Joker: 키위나\\n레마에 비해 가격이 비싼 편. Joker의 경우 일요일에도 운영하기 때문에 만약 일요일에 급하게 뭔가가\\n필요하다면 이용할 수 있음.',\n",
       " '- Kiwi: 크링샤 기숙사 내에\\n있는 마트로 가격이 싼 편. 가성비 좋은 브랜드인 First\\nPrice 제품들을 구매할 수 있음.',\n",
       " '- Rema 1000: 송 기숙사\\n내에 있는 마트로 가격이 싼 편.',\n",
       " '- Coop mega: Ulleval\\nStadion 역에 있는 큰 마트로 키위나 레마에 비해서는 가격이 비싼 편이지만 규모가 커서 필요한 대부분의 물건들을 구할 수 있고\\n고기 등의 질이 좋음.',\n",
       " '- Grønland Fruit and\\nVegetables: 그론란드 역에 있는 마트로 과일, 야채 등을 매우 싸게 구할 수 있음. 가게 바깥에 매대를 늘어 놓고 물건을 팔고 있으며 가격이 싼 만큼 질이나 신선도가 날이나 때에 따라 다르기\\n때문에 반드시 잘 확인해야 함. 야채나 과일을 살 때 그론란드 마트에 자주 갔는데 확실히 생활비를 많이\\n아낄 수 있었음 그러나 그론란드 지역 자체가 오슬로 내에서 가장 치안이 좋지 않은 곳이기 때문에 가실 때 반드시 여럿이서 가야함.',\n",
       " '- A Food Market: 그론란드와\\n얀반토르게에 있는 아시안 마트로 그론란드 점이 더 크고 깨끗. 한국,\\n일본, 중국, 베트남 등 다양한 아시아 음식과\\n식재료를 구매할 수 있으며 김치나 한국 라면도 구할 수 있음.',\n",
       " '- Scanasia: 얀반토르게 역\\n근처에 있는 아시안 마트로 규모가 작지만 식재료 가격도 에이 푸드 마트와 크게 다르지 않음. 라면 종류가\\n이 곳이 더 많고 그론란드는 혼자 가기 좀 어려워서 자주 갔었음.',\n",
       " '- J2 Market: 마요르스툰\\n역 근처에 있는 한국 마트로 한국인분이 운영. 김치나 제육볶음, 비빔밥\\n밀키트 등을 포함해 물엿 등 다양한 한국 음식들을 구할 수 있지만 가격이 비싼 편이라 몇 번 가지는 않았음. 가끔\\n유통기한이 지난 음식들을 싸게 파는 경우가 있었음.',\n",
       " '',\n",
       " '- Normal: 한국의 다이소와\\n올리브영을 합쳐 놓은 곳.',\n",
       " '- Clas Olsen: 다이소와\\n비슷한 곳이지만 사무 용품, 전자제품, 부엌 용품들이 주를\\n이룸.',\n",
       " '- Posten: 노르웨이의 우체국으로\\n한국으로 소포를 보내야 하는 경우가 있다면 박스를 구매하여 마요르스툰에 있는 우체국에서 보낼 수 있음. 인터넷으로\\n미리 금액을 지불하고, 상세 내역을 기재한 후에 QR 코드를\\n보여주면 빠르게 택배를 보낼 수 있음.',\n",
       " '',\n",
       " '- Grünerløkka: 보고서에서\\n소개하는 대부분의 식당이나 카페가 위치한 지역으로 오슬로 시내에서 가장 힙한 곳이라고 할 수 있음. 식당, 카페, 편집샵 등 다양한 가게들이 있으며 근처에 폭포와 공원도 있기\\n때문에 산책하고 피크닉 하기에도 아주 좋은 곳.',\n",
       " '- East Kitchen:\\nGrünerløkka에 있는 아시안 음식점으로 탕수육과 비슷한 메뉴를 판매하며 그 외의 요리들도 맛있음. 가격이 합리적인 편이며 포장할 때 더 가격이 저렴함.',\n",
       " '- Pust: 마요르스툰 역 옆쪽에\\n있는 카페로 인테리어가 매우 예쁘고 페이스트리가 맛있음. 카공을 할 수 있는 분위기로 인기가 많기 때문에\\n일찍 가지 않으면 자리가 없을 수도 있음.',\n",
       " '- Fulgen: 커알못이라 한 번도\\n가본적은 없지만 오슬로 시내에서 손에 꼽는 카페라고 함.',\n",
       " '- Oslo Street Food: 오슬로\\n시내에 있는 푸드코트로 한국 음식도 판매함. 테이블에 놓인 QR코드를\\n통해 음식을 주문하고 직접 가지러 가는 형식. 그리스 요리와 가라아게를 추천함.',\n",
       " '- Crêperie de Mari: 식사용과\\n디저트용 크레페를 모두 판매하는 크레페 전문점으로 닭가슴살과 바질이 들어간 크레페를 강력 추천.',\n",
       " '- Haralds Vaffel: 오슬로에서\\n가장 유명한 북유럽식 와플점이라고 할 수 있으며 아이스크림도 판매하고 있음. 추천 조합은 생크림과 라즈베리\\n잼으로 포장해서 근처 강가에 앉아 먹으면 꿀맛.',\n",
       " '- Mathallen Oslo: Vulkan 쪽에\\n위치한 푸드코트로 그론로카에서 다리를 건너면 나오는 지역에 있음. 푸드 코트 음식 가격 자체는 비싼\\n편이지만 안에 있는 젤라또 가게 추천..',\n",
       " '',\n",
       " '4. 여행',\n",
       " '저는 학기가 끝난 뒤에는 여행을 하지 않고\\n바로 귀국할 계획이었기 때문에 최대한 오슬로 생활도 즐기면서 동시에 다양한 국가를 여행하고자 했습니다. 그래서\\n한 달에 꼭 한 번은 여행하려고 노력했던 것 같습니다. 제가 여행한 곳은 트롬쇠, 베르겐, 독일, 영국(런던, 에든버러 등), 독일, 코펜하겐, 스톡홀름, 암스테르담으로\\n이 모든 여행지에 대한 이야기는 나누지 못하지만 이 중에서도 오슬로에서 지내면서 유용했던 내용들 몇 가지에 대해 적어보고자 합니다.',\n",
       " '',\n",
       " '- 베르겐 기차 여행: 노르웨이에서 가장 유명한 것은 연어와 피오르드라고도 할 수 있을 것 같습니다.\\n그 정도로 피오르드가 매우 잘 발달해 있고 그를 구경할 수 있는 요트 투어도 유명합니다. 저는\\n노르웨이 남부의 오슬로에서 서쪽 끝에 있는 베르겐으로 이동할 때, 직행 기차나 비행기를 이용하지 않고\\n산악 열차와 페리를 타고 갈 수 있는 경로를 선택하여 피오르드 투어를 했습니다. 첫 번째로 오슬로에서\\n뮈르달로 가는 열차를 타고, 두 번째로 뮈르달에서 플롬으로 가는 산악 열차를 타고, 세 번째로 플롬에서 구드바겐으로 가는 페리를 타고, 네 번째로 구드바겐에서\\n보스로 가는 버스를 탔으며, 마지막으로 보스에서 베르겐으로 가는 기차를 타는 여정이었습니다. 환승만 총 네 번을 해야 하고 이동 시간만 하루가 꼬박 걸렸지만 교환 생활 중에 했던 여행 중에서 손에 꼽게\\n기억이 남을 정도로 매우 기억에 남습니다. 이 모든 여정을 개별적으로 구매하지 않고 패키지를 통해 한\\n꺼번에 예약할 수 있는 방법도 있지만 저는 돈을 아끼기 위해 일일이 시간표를 확인하고 예약했었고 결과적으로 약\\n10만원 정도를 아낄 수 있었습니다. 그러나 이 방법은 하나의 열차가 연착되거나 취소되면\\n그 뒤에 모든 일정이 엉망이 된다는 위험 부담은 가지고 가야 한다는 점에서 단점이 있기 때문에 우선 순위를 두고 결정하시길 바랍니다. 힘든 여정이었지만 어쩌면 노르웨이에서만 할 수 있는 추억이기 때문에 기회와 여건이 된다면 꼭 경험해보시길 추천\\n드립니다.',\n",
       " '',\n",
       " '- 코펜하겐 나이트 버스: 교환 학생을 가는 여러 이유 중에서는 여행을 가기 위한 것도 있을 것입니다.\\n저 역시 학기 중에 최대한 많은 국가를 가고자 했지만 안 그래도 높은 노르웨이 물가와 더불어 북유럽,\\n영국 등 물가가 높은 국가들을 여행하기 위해서는 예산을 잘 조정해야 했습니다. 때문에 비행기를\\n타고 여행하는 것은 필수적이거나 혹은 기차 등보다 훨씬 값싼 경우가 아니라면 흔치 않았습니다. 따라서\\n스웨덴이나 덴마크처럼 노르웨이에서 기차, 버스 등으로 갈 수 있는 국가는 최대한 비행기 외의 교통수단을\\n사용하고자 했습니다. 그 중에서도 몸은 조금 고생하겠지만 예산을 줄이고 싶으신 분들께 코펜하겐으로 가는\\n나이트 버스를 추천합니다. 저는 오슬로 버스 터미널에서 스웨덴을 통해 코펜하겐 공항으로 가는 나이트\\n버스를 이용하였고 약 9시간 정도 걸렸습니다. 밤 9시에 버스를 타서 아침 6시쯤에 공항에 도착하여 시내로 이동하니 7시 정도였고 몸은 피곤했지만 하루를 일찍 시작하여 여러 곳을 구경할 수 있다는 점이 좋았습니다. 그러나 평소에 체력이 별로 좋지 않거나 오래 앉아 있는 것이 너무 힘들게 느껴지는 경우에는 추천하지 않습니다. 버스 회사에는 여러 가지가 있는 Flexbus는 되도록 추천하지\\n않으며 Vy가 더 크고 쾌적합니다. 값이 싸다는 장점 외에도\\n절대 잊을 수 없는 경험을 해보고 싶으신 분께 추천합니다.',\n",
       " '',\n",
       " '5. 소감',\n",
       " '보통 한국 사람에게 노르웨이에 대해 물어본다면\\n‘연어, 고등어, 피오르드,\\n자발적 사회적 거리두기의 국가’ 정도만 떠오를 것이라 생각합니다. 그만큼 노르웨이는 한국인들에게\\n낯선 국가로 노르웨이로 교환학생을 가게 되었다고 했을 때 가족과 지인들이 네덜란드, 아일랜드, 뉴질랜드 등 여러 국가들과 이름을 헷갈려 하기도 했습니다. 저 역시\\n노르웨이에 대해 많은 것을 아는 것은 아니었습니다. 파견교가 배정되고 난 이후에는 네이버 노르웨이 카페나\\n유튜브 브이로그, 페이스북 등 여러 매체를 통해 노르웨이에 대해 알아보고자 했지만 오슬로 대학교를 1순위로 놓았던 것은 노르웨이라는 특정한 국가에 흥미가 있었다기보다는 제가 듣고 싶은 강의가 있다는 것과 주\\n전공과 복수전공 학점을 가져올 수 있다는 점 때문이었습니다. 물론 지역적인 부분에서 크게 보면 내가\\n살면서 언제 또 북유럽에 살아볼 수 있는 기회를 갖게 될까, 라는 생각도 있었지만 오슬로 대학교를 선택하는\\n주된 이유가 된 것은 아니었습니다. 하지만 지금의 저는 교환학생 생활이 많은 선배들이 말했듯 인생에서\\n꼭 해볼 만한 경험이었으며, 그 경험을 오슬로에서 해볼 수 있었다는 것이 행운이었다고 생각합니다. 100만 명이 살고 있는 오슬로는 한국에 비해서 절대적으로 작은 인구 밀도 덕분에 사람 한 명 한 명이 누릴\\n수 있는 공간과 여유가 훨씬 많았고 자신의 인생에서 진정으로 무엇이 중요한지를 생각할 수 있는 기회를 가져다주었습니다. 그리고 생각했던 것보다 사람들은 훨씬 더 친절하고 웃음이 많은 사람들이었습니다. 친구, 가족, 연인과\\n함께 퇴근 후 자연 속에서 여유를 즐기며 쉼이 있는 저녁을 보내는 사람들을 보고 저는 무엇을 하면서 살 것인가에서 어떻게 살 것인가를 고민할 수\\n있게 되었습니다. 마냥 외국에서 살면 어떠어떠할 것이라고 상상만 해 온 저에게 오슬로 대학교에서의 교환\\n생활은 더 큰 시야를 가져다 준 시간이자 절대로 잊을 수 없는 추억이 되었습니다.',\n",
       " '지금 돌이켜 생각해보면 여러가지 점에서 아쉬움이 많이 남습니다. 교환 생활 중반부터 코로나 관련 규정들이 사라졌기 때문에 그 전에는 많은 인원이 함께 모이지 못하는 등 여러\\n애로 사항이 있었고 저 역시도 다양한 사교 생활에 소극적으로 대하게 된 것 같습니다. 그 외에도 페이스북\\n그룹에 자주 올라오는 여러 행사 공고들을 보고 하나라도 더 많이 나갈 걸, 동아리라도 하나 들어 볼\\n걸, 이라는 생각이 듭니다. 하지만 그 시기의 저에게는 그것이\\n최선이었고 후회가 남고 미련이 남는 다는 것은 그 만큼 그 곳에서의 생활이 즐거웠다는 것을 의미한다고 생각하기 때문에 오히려 이 감정들을 발판\\n삼아 앞으로의 한국에서의 생활도 더 알차게 지낼 수 있을 것 같습니다.',\n",
       " '',\n",
       " '',\n",
       " '',\n",
       " '',\n",
       " '',\n",
       " 'Exchange\\n  University',\n",
       " 'University\\n  of Oslo',\n",
       " 'Name',\n",
       " '**\\n  Hong',\n",
       " 'Major',\n",
       " 'History',\n",
       " '',\n",
       " 'Title:\\xa0 Life in Oslo',\n",
       " '',\n",
       " \"Usually, if you ask\\na Korean about Norway, they would probably talk about salmon, mackerel, fjords,\\nand voluntary social distancing. Since Norway is not a very common place for an\\nexchange program in Korea, some of my family members and friends kept getting\\nconfused of the name. With other countries like Netherlands, Newland, Ireland,\\netc. And I neither knew much about Norway. After the nomination, I tried to\\nfind out about Norway through various media such as social media like Facebook\\nand YouTube. I wrote down the 'University of Oslo' not because I knew a lot of\\nNorway and wanted to go, but because I could bring credits back to Ewha for my\\nmajors.\",\n",
       " 'Of course, I thought, \"When\\nwill I have the opportunity to live in Northern Europe again in my life?\"\\nBut it was not the main reason for choosing the University of Oslo. However,\\npeople usually say, being an exchange student was a must-have experience in my\\nlife, and I was lucky to have that experience in Oslo. Oslo is a small city\\nwhere 1 million people live and have an absolutely small population density\\ncompared to Korea. It gave each person much more space to take their time and\\nthink about what truly matters in their lives. Seeing people spending a\\nrelaxing evening in nature after work with friends, family, and lovers, I was\\nable to think about how to live. I have always imagined what it would be like\\nto live abroad and the exchange life at the University of Oslo brought me a\\nbigger perspective and a memory that I will never forget.',\n",
       " \"When I look back in time, there are\\na lot of regrets in many ways. Since the rules related to COVID-19 have\\ndisappeared since the middle of the exchange life, it was quite hard to\\nsocialize, such as not being able to gather together in the beginning. And I\\nhave also been passive. Maybe I should have attended one more event or listened\\nto a club after seeing the announcements of various events that are often\\nposted on Facebook. However, it doesn't change that I did my best at that time.\\nAnd regrets and left feelings mean I enjoyed my life there.\",\n",
       " '',\n",
       " '',\n",
       " '',\n",
       " '',\n",
       " '',\n",
       " '본교 2022학년도 1학기 영어권 교환학생 귀국 후 파견학교 평가지',\n",
       " '2022년 7월 18일\\n(월) ECC B334호',\n",
       " '이\\xa0\\xa0\\xa0\\n름: 홍**',\n",
       " '전\\xa0\\xa0\\xa0\\n공: 사학과',\n",
       " '파견학교: University of Oslo',\n",
       " '',\n",
       " '파견기간: 2022 년 1학기\\n~ 2022년 1학기 (총\\n1학기)',\n",
       " '수강학점(교환기간 중):\\n1학기 전공 20 ECTS, 교양 10 ECTS',\n",
       " '',\n",
       " '전체적인 평가',\n",
       " '매우만족 ( V )\\xa0\\xa0\\xa0 만족 ( \\xa0\\xa0\\xa0)\\xa0\\xa0\\xa0 보통 (\\xa0\\xa0\\xa0\\n)\\xa0\\xa0\\xa0 불만족\\n(\\xa0\\xa0\\xa0 )\\xa0\\xa0\\n매우불만족 (\\xa0\\xa0\\xa0\\n)',\n",
       " '',\n",
       " '학교선택의 이유',\n",
       " '1. 북유럽 국가에서\\n꼭 한 번 살아보고 싶었기 때문입니다.',\n",
       " '2. 주전공과\\n복수전공 학점을 모두 가져오는 것이 중요했기 때문입니다.',\n",
       " '3. 수도에 위치한다는 점도 매력적으로 다가왔습니다',\n",
       " '',\n",
       " 'A. 수업',\n",
       " '1. 전공(복수, 부전공)과목 개설\\n여부\\xa0\\xa0\\xa0\\xa0\\xa0\\xa0\\xa0\\xa0\\xa0\\xa0\\xa0\\xa0\\xa0\\xa0\\xa0\\xa0\\xa0\\xa0\\xa0 Y',\n",
       " '2. 전공(복수, 부전공)과목 수강\\n여부 \\xa0\\xa0\\xa0 \\xa0\\xa0\\xa0\\xa0\\xa0\\xa0\\xa0\\xa0\\xa0\\xa0\\xa0\\xa0\\xa0\\xa0 Y',\n",
       " '3. 강의실 시설\\n내용',\n",
       " '인문대, 법대와\\n사회대 강의의 강의실이 모두 달랐고 세미나실도 다른 건물에 있었습니다. 특히 법대의 경우에는 대부분의\\n단대들이 모여 있는 Blindren이 아니라 Karl Johans\\nGate 근처에 따로 단독 건물로 위치해 있었기 때문에 이동할 때 서둘러야 했습니다. 수강신청 시에 꼭 이동 시간을 고려하시길 바랍니다.',\n",
       " '',\n",
       " '4. 수강생 인원',\n",
       " '전공과목: 20명 이내 (\\xa0 ) 50명 이내 ( V )\\xa0 100명 이내 ( \\xa0\\xa0)\\xa0 100명 이상 (\\xa0 \\xa0)',\n",
       " '사학과 강의는 25명 남짓,\\n심리학 강의는 70명 정도 수강하는 강의였습니다.',\n",
       " '',\n",
       " '교양과목: 20명 이내 (\\xa0 ) 50명 이내 (\\xa0\\xa0 )\\xa0 100명\\n이내 ( V )\\xa0 100명 이상 (\\xa0 \\xa0)',\n",
       " '5. 수업 전체\\n평가',\n",
       " '매우만족 (\\xa0\\xa0\\xa0 )\\xa0\\xa0\\xa0 만족 ( \\xa0V \\xa0)\\xa0\\xa0\\xa0 보통 (\\xa0\\xa0\\xa0 )\\xa0\\xa0\\xa0 불만족 (\\xa0\\xa0\\xa0 )\\xa0\\xa0 매우불만족 (\\xa0\\xa0\\xa0 )',\n",
       " '',\n",
       " 'B. 기숙사',\n",
       " '1. 기숙사 거주: 1인실 (\\xa0\\nV\\xa0 )\\xa0\\xa0 2인실 (\\xa0\\xa0\\xa0 )\\xa0\\xa0 3인실 (\\xa0\\xa0\\xa0 )\\xa0 기숙사명 (Kringsjå student\\nvillage)',\n",
       " '자취 (\\xa0\\xa0\\xa0 )\\xa0\\xa0 하숙 (\\xa0\\xa0\\xa0 )\\xa0\\xa0 기타 (\\xa0\\xa0\\xa0\\xa0\\xa0\\xa0\\xa0\\xa0\\xa0\\xa0\\xa0\\xa0\\xa0\\xa0\\xa0\\xa0\\xa0\\xa0\\xa0\\xa0 )',\n",
       " '2. 기숙사 학생\\n분포 비율:\\xa0\\xa0 본교생:국제학생=(\\xa0\\n5\\xa0 ):(\\xa0 1\\xa0 )',\n",
       " '3. 기숙사 시설\\n내용',\n",
       " '제가 지내던 곳은 화장실이 딸려 있는 1인실 6개가 함께 있는 플랫이었고 부엌과 다이닝 룸을 공유하는 형태였습니다. 엘리베이터가\\n있는 고층 빌딩이었으며 부엌에는 기본으로 인덕션, 오븐, 냉장고와\\n수납 공간 등이 있었지만 전자레인지, 에어프라이기 등은 모든 플랫에 다 있는 것이 아니라 보통 플랫\\n메이트 중 한 명이 가져온 것을 다 같이 쓰는 것이거나 이전에 살던 사람이 두고 간 물건이었기 때문에 플랫에 따라 구성은 조금 다 달랐습니다. 청결도 역시 플랫에 따라 편차가 크긴 했지만 전반적으로 깨끗한 편이었습니다.',\n",
       " '',\n",
       " '4. 기숙사 식당\\n– 없음',\n",
       " '매우만족 (\\xa0\\xa0\\xa0 )\\xa0\\xa0\\xa0 만족 (\\xa0\\xa0\\xa0 )\\xa0\\xa0\\xa0 보통 (\\xa0\\xa0\\xa0 )\\xa0\\xa0\\xa0 불만족 (\\xa0\\xa0\\xa0 )\\xa0\\xa0 매우불만족 (\\xa0\\xa0\\xa0 )',\n",
       " '',\n",
       " '5. 기숙사 위치',\n",
       " '교내 (\\xa0\\xa0\\xa0\\n)\\xa0\\xa0\\xa0 교외\\n(\\xa0 V\\xa0\\n)\\xa0\\xa0\\xa0\\xa0 강의실과의 거리 (도보로 36분 소요)',\n",
       " '',\n",
       " '6. 기숙사 규정\\n내용',\n",
       " '분리수거 규칙 외에는 특별한 규정이 없었습니다',\n",
       " '',\n",
       " '7. 기숙사 전체\\n평가',\n",
       " '매우만족 (\\xa0\\nV\\xa0 )\\xa0\\xa0\\xa0 만족 (\\xa0\\xa0\\xa0 )\\xa0\\xa0\\xa0 보통 (\\xa0\\xa0\\xa0 )\\xa0\\xa0\\xa0 불만족 (\\xa0\\xa0\\xa0 )\\xa0\\xa0 매우불만족 (\\xa0\\xa0\\xa0 )',\n",
       " '',\n",
       " '',\n",
       " 'C. 기타 교내 시설',\n",
       " 'Blindren 역에서 내려서 UiO쪽으로 걸어가면 정면에 보이는 도서관이\\n교내에서 가장 큰 도서관으로 시설이 매우 좋습니다. 그 외에도 대부분의 건물들이 깨끗하고 편리했고 교내\\n안에 서점, 약국, 교내 식당 등이 있고 식당 음식 가격은\\n비교적 합리적인 편이었습니다. Eilert Sundt’s House 지하에는 U1이라는 카페가 있는데 가격이 싸고 저녁에는 펍으로 운영되는 곳입니다.',\n",
       " '',\n",
       " 'D. 담당 사무실',\n",
       " '1. 방문 횟수: 주\\xa0\\xa0\\xa0\\xa0\\xa0\\xa0\\xa0 회 \\xa0\\xa0\\xa0\\xa0\\xa0\\xa0\\xa0\\xa0\\xa0\\xa0\\xa0\\xa0\\xa0\\xa0\\xa0\\xa0\\xa0\\xa0 2.\\n담당부서명:',\n",
       " '3. 담당직원\\n수: \\xa0\\xa0\\xa0\\xa0\\xa0\\xa0\\xa0 \\xa0명\\xa0\\xa0\\xa0\\xa0\\xa0\\xa0\\xa0\\xa0\\xa0\\xa0\\xa0\\xa0\\xa0\\xa0\\xa0\\xa0\\xa0\\xa0\\xa0 4. 담당직원명:',\n",
       " '5. 담당 사무실의\\n역할',\n",
       " '1.담당 사무실\\n방문 경험 없음',\n",
       " '',\n",
       " '4. 담당 사무실\\n전체 평가',\n",
       " '매우만족 (\\xa0\\xa0\\xa0 )\\xa0\\xa0\\xa0 만족 (\\xa0\\xa0\\xa0 )\\xa0\\xa0\\xa0 보통 (\\xa0\\xa0\\xa0 )\\xa0\\xa0\\xa0 불만족 (\\xa0\\xa0\\xa0 )\\xa0\\xa0 매우불만족 (\\xa0\\xa0\\xa0 )',\n",
       " '',\n",
       " 'E. 기타',\n",
       " '1. 문화체험\\n프로그램 수강 여부 및 평가\\xa0\\xa0\\xa0\\xa0\\xa0\\xa0\\xa0\\xa0\\xa0\\xa0\\xa0\\xa0\\xa0\\xa0\\xa0\\xa0 N',\n",
       " '매우만족 (\\xa0\\xa0\\xa0 )\\xa0\\xa0\\xa0 만족 (\\xa0\\xa0\\xa0 )\\xa0\\xa0\\xa0 보통 (\\xa0\\xa0\\xa0 )\\xa0\\xa0\\xa0 불만족 (\\xa0\\xa0\\xa0 )\\xa0\\xa0 매우불만족 (\\xa0\\xa0\\xa0 )',\n",
       " '2. Language program 수강 여부 및 평가\\xa0\\xa0\\xa0\\xa0\\xa0\\xa0\\xa0\\xa0\\xa0\\xa0\\xa0\\xa0\\xa0\\xa0\\xa0\\xa0\\xa0 N',\n",
       " '매우만족 (\\xa0\\xa0\\xa0 )\\xa0\\xa0\\xa0 만족 (\\xa0\\xa0\\xa0 )\\xa0\\xa0\\xa0 보통 (\\xa0\\xa0 \\xa0)\\xa0\\xa0\\xa0 불만족 (\\xa0\\xa0 \\xa0)\\xa0\\xa0 매우불만족 (\\xa0\\xa0\\xa0 )',\n",
       " '3. 학교 주변\\n교통',\n",
       " '매우만족 (\\xa0\\nV \\xa0)\\xa0\\xa0\\xa0 만족 (\\xa0\\xa0\\xa0 )\\xa0\\xa0\\xa0 보통 (\\xa0\\xa0\\xa0 )\\xa0\\xa0\\xa0 불만족 (\\xa0\\xa0\\xa0 )\\xa0\\xa0 매우불만족 (\\xa0\\xa0\\xa0 )',\n",
       " '4. 학교적응\\n프로그램(예, 버디 시스템)\\n유무 및 평가 \\xa0\\xa0\\xa0\\xa0 Y',\n",
       " '매우만족 (\\xa0\\xa0\\xa0 )\\xa0\\xa0\\xa0 만족 ( V )\\xa0\\xa0\\xa0 보통 (\\xa0\\xa0\\xa0 )\\xa0\\xa0\\xa0 불만족 (\\xa0\\xa0\\xa0 )\\xa0\\xa0 매우불만족 (\\xa0\\xa0\\xa0 )',\n",
       " '5. 경제적인 원조(예, 장학금)',\n",
       " '',\n",
       " '',\n",
       " '',\n",
       " '',\n",
       " 'G. 교환 소감 및 의견',\n",
       " '1. 후배들에게 권장하고 싶은 과목\\n및 프로그램',\n",
       " '해외에서\\n범죄학 강의도, 여성학 강의도 들어보고 싶은 벗께서는 제가 들었던 Criminological\\nPerspective on Gender, Sexuality, and Violence를 추천합니다. 범죄학이라는\\n분야 자체가 생소했고 강의에서 사용되는 용어가 어려워 수업을 따라가기가 힘들었지만 흥미롭고 새로웠습니다. 그러나\\n수업을 잘 따라가고자 하신다면 매 수업 이후에 복습을 철저히 하시길 추천합니다.',\n",
       " '',\n",
       " '2. 교환 기간 중 가장 어려웠던\\n점',\n",
       " '4~5월 사이에 약간의 향수병과 함께\\n계속해서 새로운 사람들과 만나고 또 헤어지고 에너지를 쓰는 것이 조금 버겁다고 느껴졌던 때가 있었습니다. 하지만\\n시간이 조금 지나고 나니 나름대로 그런 삶에도 적응하게 되어서 노르웨이 생활이 너무나도 편하게 느껴졌었습니다.',\n",
       " '',\n",
       " '3. 교환 학생 기간을 마친 후의\\n소감 및 의견',\n",
       " '제 버킷\\n리스트 중 하나였던 교환학생 프로그램이 벌써 끝이 났다는 것이 아직 실감이 잘 나지는 않습니다. 5개월이라는\\n짧다면 짧고 길다면 긴 시간 동안 많은 것을 보고 또 배우고 느낄 수 있었습니다. 이렇게 혼자서 외국에\\n나가서 살아본 경험이 없었기 때문에 이전에는 마냥 환상이나 로망처럼만 교환 생활을 생각했는데 막상 나가서 살아보니 제가 생각 했던 부분과 같은\\n것도, 다른 것도 많았습니다. 그러나 이 경험 덕분에 제\\n미래의 진로에 대해서 더 구체적으로 현실적으로 구상해볼 수 있게 되었고, 살면서 절대 잊지 못할 추억을\\n만들었으며, 가까운 미래에는 아마도 없을 여유와 휴식을 충분히 누려봤다는 것이 제게는 큰 의미로 남습니다. 이 추억을 통해 앞으로 더 다양한 상상과 도전을 해볼 수 있을 것 같습니다.',\n",
       " '',\n",
       " '52, Ewhayeodae-gil, Seodaemun-gu, Seoul 03760 Korea (82-2)3277-2114\\nCopyright ⓒ Ewha Womans University Office of International Affairs. All rights reserved.']"
      ]
     },
     "execution_count": 66,
     "metadata": {},
     "output_type": "execute_result"
    }
   ],
   "source": [
    "report_list"
   ]
  },
  {
   "cell_type": "markdown",
   "metadata": {},
   "source": [
    "#### list를 만들어서 저장"
   ]
  },
  {
   "cell_type": "code",
   "execution_count": 64,
   "metadata": {},
   "outputs": [],
   "source": [
    "def searchOnePage(url):\n",
    "    req=urllib.request.Request(url)\n",
    "    sourcecode = urllib.request.urlopen(url).read()\n",
    "    soup = BeautifulSoup(sourcecode, \"html.parser\")\n",
    "    \n",
    "    for n in soup.find_all('p'):\n",
    "        report_list.append(n.get_text())\n",
    "        \n",
    "    return report_list"
   ]
  },
  {
   "cell_type": "code",
   "execution_count": 65,
   "metadata": {},
   "outputs": [
    {
     "ename": "NameError",
     "evalue": "name 'urllib' is not defined",
     "output_type": "error",
     "traceback": [
      "\u001b[1;31m---------------------------------------------------------------------------\u001b[0m",
      "\u001b[1;31mNameError\u001b[0m                                 Traceback (most recent call last)",
      "\u001b[1;32m<ipython-input-65-0be4a84cba30>\u001b[0m in \u001b[0;36m<module>\u001b[1;34m\u001b[0m\n\u001b[1;32m----> 1\u001b[1;33m \u001b[0msearchOnePage\u001b[0m\u001b[1;33m(\u001b[0m\u001b[1;34m\"http://rwcms.ewha.ac.kr/oia/1160/subview.do?enc=Zm5jdDF8QEB8JTJGYmJzJTJGb2lhJTJGMTg3JTJGMjg3NDElMkZhcnRjbFZpZXcuZG8lM0ZwYWdlJTNEMSUyNnNyY2hDb2x1bW4lM0RhbGwlMjZzcmNoV3JkJTNEJTI2YmJzQ2xTZXElM0QlMjZiYnNPcGVuV3JkU2VxJTNEJTI2cmdzQmduZGVTdHIlM0QlMjZyZ3NFbmRkZVN0ciUzRCUyNmlzVmlld01pbmUlM0RmYWxzZSUyNmNoZWNrJTNEY2hlY2slMjZhZGQxJTNEJUVDJThBJUE0JUVDJTlDJTg0JUVDJThBJUE0JTI2YWRkMiUzREJlcm4rVW5pdmVyc2l0eStvZitBcHBsaWVkK1NjaWVuY2VzJTI2c3JjaFZhbDFfcyUzRDY0NSUyNnNyY2hWYWwyX3MlM0Q2NTYlMjZwYXNzd29yZCUzRCUyNg%3D%3D\"\u001b[0m\u001b[1;33m)\u001b[0m\u001b[1;33m\u001b[0m\u001b[1;33m\u001b[0m\u001b[0m\n\u001b[0m",
      "\u001b[1;32m<ipython-input-64-1789f37cf54e>\u001b[0m in \u001b[0;36msearchOnePage\u001b[1;34m(url)\u001b[0m\n\u001b[0;32m      1\u001b[0m \u001b[1;32mdef\u001b[0m \u001b[0msearchOnePage\u001b[0m\u001b[1;33m(\u001b[0m\u001b[0murl\u001b[0m\u001b[1;33m)\u001b[0m\u001b[1;33m:\u001b[0m\u001b[1;33m\u001b[0m\u001b[1;33m\u001b[0m\u001b[0m\n\u001b[1;32m----> 2\u001b[1;33m     \u001b[0mreq\u001b[0m\u001b[1;33m=\u001b[0m\u001b[0murllib\u001b[0m\u001b[1;33m.\u001b[0m\u001b[0mrequest\u001b[0m\u001b[1;33m.\u001b[0m\u001b[0mRequest\u001b[0m\u001b[1;33m(\u001b[0m\u001b[0murl\u001b[0m\u001b[1;33m)\u001b[0m\u001b[1;33m\u001b[0m\u001b[1;33m\u001b[0m\u001b[0m\n\u001b[0m\u001b[0;32m      3\u001b[0m     \u001b[0msourcecode\u001b[0m \u001b[1;33m=\u001b[0m \u001b[0murllib\u001b[0m\u001b[1;33m.\u001b[0m\u001b[0mrequest\u001b[0m\u001b[1;33m.\u001b[0m\u001b[0murlopen\u001b[0m\u001b[1;33m(\u001b[0m\u001b[0murl\u001b[0m\u001b[1;33m)\u001b[0m\u001b[1;33m.\u001b[0m\u001b[0mread\u001b[0m\u001b[1;33m(\u001b[0m\u001b[1;33m)\u001b[0m\u001b[1;33m\u001b[0m\u001b[1;33m\u001b[0m\u001b[0m\n\u001b[0;32m      4\u001b[0m     \u001b[0msoup\u001b[0m \u001b[1;33m=\u001b[0m \u001b[0mBeautifulSoup\u001b[0m\u001b[1;33m(\u001b[0m\u001b[0msourcecode\u001b[0m\u001b[1;33m,\u001b[0m \u001b[1;34m\"html.parser\"\u001b[0m\u001b[1;33m)\u001b[0m\u001b[1;33m\u001b[0m\u001b[1;33m\u001b[0m\u001b[0m\n\u001b[0;32m      5\u001b[0m \u001b[1;33m\u001b[0m\u001b[0m\n",
      "\u001b[1;31mNameError\u001b[0m: name 'urllib' is not defined"
     ]
    }
   ],
   "source": [
    "searchOnePage(\"http://rwcms.ewha.ac.kr/oia/1160/subview.do?enc=Zm5jdDF8QEB8JTJGYmJzJTJGb2lhJTJGMTg3JTJGMjg3NDElMkZhcnRjbFZpZXcuZG8lM0ZwYWdlJTNEMSUyNnNyY2hDb2x1bW4lM0RhbGwlMjZzcmNoV3JkJTNEJTI2YmJzQ2xTZXElM0QlMjZiYnNPcGVuV3JkU2VxJTNEJTI2cmdzQmduZGVTdHIlM0QlMjZyZ3NFbmRkZVN0ciUzRCUyNmlzVmlld01pbmUlM0RmYWxzZSUyNmNoZWNrJTNEY2hlY2slMjZhZGQxJTNEJUVDJThBJUE0JUVDJTlDJTg0JUVDJThBJUE0JTI2YWRkMiUzREJlcm4rVW5pdmVyc2l0eStvZitBcHBsaWVkK1NjaWVuY2VzJTI2c3JjaFZhbDFfcyUzRDY0NSUyNnNyY2hWYWwyX3MlM0Q2NTYlMjZwYXNzd29yZCUzRCUyNg%3D%3D\")"
   ]
  },
  {
   "cell_type": "markdown",
   "metadata": {},
   "source": [
    "## 데이터 전처리"
   ]
  },
  {
   "cell_type": "code",
   "execution_count": null,
   "metadata": {},
   "outputs": [
    {
     "ename": "SyntaxError",
     "evalue": "EOL while scanning string literal (<ipython-input-20-bfd6b9cadc39>, line 4)",
     "output_type": "error",
     "traceback": [
      "\u001b[1;36m  File \u001b[1;32m\"<ipython-input-20-bfd6b9cadc39>\"\u001b[1;36m, line \u001b[1;32m4\u001b[0m\n\u001b[1;33m    n = re.sub('..:;)\u001b[0m\n\u001b[1;37m                     ^\u001b[0m\n\u001b[1;31mSyntaxError\u001b[0m\u001b[1;31m:\u001b[0m EOL while scanning string literal\n"
     ]
    }
   ],
   "source": [
    "import re\n",
    "\n",
    "for n in list :\n",
    "    n = re.sub('..:;)"
   ]
  }
 ],
 "metadata": {
  "interpreter": {
   "hash": "a077222d77dfe082b8f1dd562ad70e458ac2ab76993a0b248ab0476e32e9e8dd"
  },
  "kernelspec": {
   "display_name": "Python 3.8.8 ('base')",
   "language": "python",
   "name": "python3"
  },
  "language_info": {
   "codemirror_mode": {
    "name": "ipython",
    "version": 3
   },
   "file_extension": ".py",
   "mimetype": "text/x-python",
   "name": "python",
   "nbconvert_exporter": "python",
   "pygments_lexer": "ipython3",
   "version": "3.8.8"
  },
  "orig_nbformat": 4
 },
 "nbformat": 4,
 "nbformat_minor": 2
}
